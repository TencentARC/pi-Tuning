{
 "cells": [
  {
   "cell_type": "code",
   "execution_count": 9,
   "id": "a637da52",
   "metadata": {},
   "outputs": [],
   "source": [
    "import pickle as pkl\n",
    "import numpy as np\n",
    "import scipy.spatial.distance as distance\n",
    "import pandas as pd\n",
    "\n",
    "# task_names = ['snli_ve', 'caption', 'refcoco', 'refcocoplus', 'refcocog', 'cola', 'mnli', 'sst2', 'rte', 'mrpc', 'qnli', 'qqp', 'food101', 'caltech101','dtd','eurosat','fgvc_aircraft','flowers102','oxfordpets','stanford_cars']\n",
    "# task_names = ['mnli', 'sst2', 'rte', 'mrpc', 'qnli']\n",
    "# task_names = ['vqa', 'snli_ve', 'caption', 'refcoco', 'refcocoplus', 'refcocog', 'cola', 'mnli', 'sst2', 'rte', 'mrpc', 'qnli', 'qqp', 'imagenet_preft_base', 'food101', 'caltech101','dtd','eurosat','fgvc_aircraft','flowers102','oxfordpets','stanford_cars']\n",
    "# task_names = ['snli_ve', 'caption', 'refcoco', 'refcocoplus', 'refcocog']\n",
    "task_names = [ 'refcoco', 'refcocoplus', 'refcocog']\n",
    "\n",
    "\n",
    "task_embs = []\n",
    "\n",
    "for task in task_names:\n",
    "    with open(task+'/task_emb.pkl', 'rb') as fp:\n",
    "        task_embs.append(pkl.load(fp))"
   ]
  },
  {
   "cell_type": "code",
   "execution_count": 10,
   "id": "dda91d61",
   "metadata": {},
   "outputs": [],
   "source": [
    "def cosine(e0, e1):\n",
    "    e0 = e0.reshape(-1)\n",
    "    e1 = e1.reshape(-1)\n",
    "    e0, e1 = e0/(e0 + e1 + 1e-6), e1/(e0 + e1 + 1e-6)\n",
    "    return 1 - distance.cosine(e0, e1)"
   ]
  },
  {
   "cell_type": "code",
   "execution_count": 11,
   "id": "b923746b",
   "metadata": {},
   "outputs": [
    {
     "data": {
      "text/plain": [
       "array([[0.        , 0.97240827, 0.96139766],\n",
       "       [0.        , 0.        , 0.95890513],\n",
       "       [0.        , 0.        , 0.        ]])"
      ]
     },
     "execution_count": 11,
     "metadata": {},
     "output_type": "execute_result"
    }
   ],
   "source": [
    "import warnings\n",
    "warnings.filterwarnings('error')    \n",
    "task_sim = np.zeros((len(task_embs), len(task_embs)))\n",
    "for i, target_task in enumerate(task_embs):\n",
    "    rank = []\n",
    "    for k in target_task:\n",
    "        if not 'adapter':\n",
    "            continue\n",
    "        if np.inf in target_task:\n",
    "            continue\n",
    "        cosine_sim = []\n",
    "        flag = True\n",
    "        \n",
    "        for emb in task_embs[i+1:]:\n",
    "            try:\n",
    "                cosine_sim.append(cosine(target_task[k], emb[k]))\n",
    "            except:\n",
    "                flag=False\n",
    "                break\n",
    "        if flag:\n",
    "            component_rank=sorted(enumerate(cosine_sim), key=lambda x:-x[1])\n",
    "            rank.append(component_rank)\n",
    "    task_sum = np.zeros(len(task_embs)-i-1)\n",
    "    for r in rank:\n",
    "        for tmp in r:\n",
    "            task_sum[tmp[0]] += tmp[1]\n",
    "    task_sum = task_sum / len(rank)\n",
    "    task_sim[i, i+1:] = task_sum\n",
    "task_sim"
   ]
  },
  {
   "cell_type": "code",
   "execution_count": 12,
   "id": "60e3ec1b",
   "metadata": {},
   "outputs": [],
   "source": [
    "for i in range(len(task_sim)):\n",
    "    for j in range(i):\n",
    "        task_sim[i, j] = task_sim[j, i]\n",
    "    task_sim[i, i] = 1 \n",
    "task_sim = np.around(task_sim, decimals=4)\n",
    "data = pd.DataFrame(task_sim, columns=task_names)\n",
    "data.to_csv('task_sim.csv', index=None)"
   ]
  }
 ],
 "metadata": {
  "kernelspec": {
   "display_name": "torch_env",
   "language": "python",
   "name": "python3"
  },
  "language_info": {
   "codemirror_mode": {
    "name": "ipython",
    "version": 3
   },
   "file_extension": ".py",
   "mimetype": "text/x-python",
   "name": "python",
   "nbconvert_exporter": "python",
   "pygments_lexer": "ipython3",
   "version": "3.8.16"
  },
  "vscode": {
   "interpreter": {
    "hash": "77a3986b79eb36385da358b2f964c84e797c1d216e49bfa44b6336ddd41eec73"
   }
  }
 },
 "nbformat": 4,
 "nbformat_minor": 5
}
